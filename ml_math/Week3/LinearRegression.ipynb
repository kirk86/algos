{
 "cells": [
  {
   "cell_type": "markdown",
   "metadata": {},
   "source": [
    "# Linear Regression\n",
    "\n",
    "## No regularization"
   ]
  },
  {
   "cell_type": "code",
   "execution_count": 1,
   "metadata": {
    "collapsed": true
   },
   "outputs": [],
   "source": [
    "import numpy as np\n",
    "import pandas as pd #For easy data reading"
   ]
  },
  {
   "cell_type": "markdown",
   "metadata": {},
   "source": [
    "### Sigmoid function"
   ]
  },
  {
   "cell_type": "code",
   "execution_count": 2,
   "metadata": {},
   "outputs": [],
   "source": [
    "def sigmoid(x,deriv=False):\n",
    "    if(deriv==True):\n",
    "        return x*(1-x)\n",
    "    return 1/(1+np.exp(-x))"
   ]
  },
  {
   "cell_type": "markdown",
   "metadata": {},
   "source": [
    "### Data"
   ]
  },
  {
   "cell_type": "code",
   "execution_count": 307,
   "metadata": {},
   "outputs": [
    {
     "data": {
      "text/html": [
       "<div>\n",
       "<style>\n",
       "    .dataframe thead tr:only-child th {\n",
       "        text-align: right;\n",
       "    }\n",
       "\n",
       "    .dataframe thead th {\n",
       "        text-align: left;\n",
       "    }\n",
       "\n",
       "    .dataframe tbody tr th {\n",
       "        vertical-align: top;\n",
       "    }\n",
       "</style>\n",
       "<table border=\"1\" class=\"dataframe\">\n",
       "  <thead>\n",
       "    <tr style=\"text-align: right;\">\n",
       "      <th></th>\n",
       "      <th>age</th>\n",
       "      <th>weight</th>\n",
       "      <th>blood_fat</th>\n",
       "    </tr>\n",
       "  </thead>\n",
       "  <tbody>\n",
       "    <tr>\n",
       "      <th>0</th>\n",
       "      <td>0.919355</td>\n",
       "      <td>0.65</td>\n",
       "      <td>0.640741</td>\n",
       "    </tr>\n",
       "    <tr>\n",
       "      <th>1</th>\n",
       "      <td>0.741935</td>\n",
       "      <td>0.00</td>\n",
       "      <td>0.033333</td>\n",
       "    </tr>\n",
       "    <tr>\n",
       "      <th>2</th>\n",
       "      <td>0.612903</td>\n",
       "      <td>0.80</td>\n",
       "      <td>0.829630</td>\n",
       "    </tr>\n",
       "    <tr>\n",
       "      <th>3</th>\n",
       "      <td>0.693548</td>\n",
       "      <td>0.25</td>\n",
       "      <td>0.303704</td>\n",
       "    </tr>\n",
       "  </tbody>\n",
       "</table>\n",
       "</div>"
      ],
      "text/plain": [
       "        age  weight  blood_fat\n",
       "0  0.919355    0.65   0.640741\n",
       "1  0.741935    0.00   0.033333\n",
       "2  0.612903    0.80   0.829630\n",
       "3  0.693548    0.25   0.303704"
      ]
     },
     "execution_count": 307,
     "metadata": {},
     "output_type": "execute_result"
    }
   ],
   "source": [
    "df = pd.read_csv('blood_fat.csv')\n",
    "\n",
    "df.head(4)"
   ]
  },
  {
   "cell_type": "code",
   "execution_count": 308,
   "metadata": {},
   "outputs": [],
   "source": [
    "X = df.iloc[:,0:2].as_matrix()\n",
    "y = df.iloc[:,2].as_matrix().reshape(len(df.index),1)"
   ]
  },
  {
   "cell_type": "code",
   "execution_count": 310,
   "metadata": {},
   "outputs": [
    {
     "name": "stdout",
     "output_type": "stream",
     "text": [
      "(25, 2) : [ 0.74193548  0.        ]\n",
      "(25, 1) : [ 0.03333333]\n"
     ]
    }
   ],
   "source": [
    "print(X.shape,':',X[1])\n",
    "print(y.shape,':',y[1])"
   ]
  },
  {
   "cell_type": "markdown",
   "metadata": {},
   "source": [
    "### Model"
   ]
  },
  {
   "cell_type": "code",
   "execution_count": 311,
   "metadata": {},
   "outputs": [],
   "source": [
    "def layer():\n",
    "    l1 = sigmoid(np.dot(X,weight))\n",
    "    return l1"
   ]
  },
  {
   "cell_type": "code",
   "execution_count": 312,
   "metadata": {},
   "outputs": [],
   "source": [
    "def loss(predicted):\n",
    "    l1_loss = y - predicted\n",
    "    return l1_loss"
   ]
  },
  {
   "cell_type": "code",
   "execution_count": 313,
   "metadata": {},
   "outputs": [],
   "source": [
    "def backprop(l1,loss,weight):\n",
    "    l1_delta = loss * sigmoid(l1,True)\n",
    "    weight += np.dot(X.T,l1_delta)\n",
    "    return weight"
   ]
  },
  {
   "cell_type": "markdown",
   "metadata": {},
   "source": [
    "##### Initialize weight"
   ]
  },
  {
   "cell_type": "code",
   "execution_count": 340,
   "metadata": {},
   "outputs": [
    {
     "data": {
      "text/plain": [
       "array([[ 0.7525676 ],\n",
       "       [ 0.18887866]])"
      ]
     },
     "execution_count": 340,
     "metadata": {},
     "output_type": "execute_result"
    }
   ],
   "source": [
    "weight = np.random.normal(size=(2,1),loc=0.5,scale=0.5)\n",
    "weight"
   ]
  },
  {
   "cell_type": "markdown",
   "metadata": {},
   "source": [
    "### Train"
   ]
  },
  {
   "cell_type": "code",
   "execution_count": 341,
   "metadata": {},
   "outputs": [
    {
     "name": "stdout",
     "output_type": "stream",
     "text": [
      "Loss at epoch 0: 0.16\n",
      "Loss at epoch 1: 0.06\n",
      "Loss at epoch 2: 0.06\n",
      "Loss at epoch 3: 0.06\n",
      "Loss at epoch 4: 0.05\n",
      "Loss at epoch 5: 0.05\n",
      "Loss at epoch 6: 0.05\n",
      "Loss at epoch 7: 0.05\n",
      "Loss at epoch 8: 0.05\n",
      "Loss at epoch 9: 0.05\n",
      "Loss at epoch 10: 0.04\n",
      "Loss at epoch 11: 0.04\n",
      "Loss at epoch 12: 0.04\n",
      "Loss at epoch 13: 0.04\n",
      "Loss at epoch 14: 0.04\n",
      "Loss at epoch 15: 0.04\n",
      "Loss at epoch 16: 0.04\n",
      "Loss at epoch 17: 0.04\n",
      "Loss at epoch 18: 0.04\n",
      "Loss at epoch 19: 0.04\n",
      "Loss at epoch 20: 0.04\n",
      "Loss at epoch 21: 0.04\n",
      "Loss at epoch 22: 0.04\n",
      "Loss at epoch 23: 0.04\n",
      "Loss at epoch 24: 0.04\n",
      "Loss at epoch 25: 0.04\n",
      "Loss at epoch 26: 0.04\n",
      "Loss at epoch 27: 0.04\n",
      "Loss at epoch 28: 0.04\n",
      "Loss at epoch 29: 0.04\n",
      "Loss at epoch 30: 0.04\n",
      "Loss at epoch 31: 0.04\n",
      "Loss at epoch 32: 0.04\n",
      "Loss at epoch 33: 0.04\n",
      "Loss at epoch 34: 0.04\n",
      "Loss at epoch 35: 0.04\n",
      "Loss at epoch 36: 0.04\n",
      "Loss at epoch 37: 0.04\n",
      "Loss at epoch 38: 0.04\n",
      "Loss at epoch 39: 0.04\n",
      "Loss at epoch 40: 0.04\n",
      "Loss at epoch 41: 0.04\n",
      "Loss at epoch 42: 0.04\n",
      "Loss at epoch 43: 0.04\n",
      "Loss at epoch 44: 0.04\n",
      "Loss at epoch 45: 0.04\n",
      "Loss at epoch 46: 0.04\n",
      "Loss at epoch 47: 0.04\n",
      "Loss at epoch 48: 0.04\n",
      "Loss at epoch 49: 0.04\n"
     ]
    }
   ],
   "source": [
    "epochs = 50\n",
    "loss_list = []\n",
    "\n",
    "for step in range(epochs):\n",
    "    l1_out = layer()\n",
    "    _loss = loss(l1_out)\n",
    "    av_loss = abs(np.average(_loss))\n",
    "    loss_list.append(av_loss)\n",
    "    \n",
    "    weight = backprop(l1_out,_loss,weight)\n",
    "    \n",
    "\n",
    "    \n",
    "    print('Loss at epoch %d: %.2f' %(step,av_loss))"
   ]
  },
  {
   "cell_type": "code",
   "execution_count": 342,
   "metadata": {},
   "outputs": [
    {
     "data": {
      "image/png": "[encoded data removed]",
      "text/plain": [
       "<matplotlib.figure.Figure at 0x27441e97748>"
      ]
     },
     "metadata": {},
     "output_type": "display_data"
    }
   ],
   "source": [
    "import matplotlib.pyplot as plt\n",
    "%matplotlib inline\n",
    "\n",
    "plt.title('Loss vs epochs')\n",
    "plt.ylabel('Loss')\n",
    "plt.xlabel('Epochs')\n",
    "plt.scatter(np.arange(0,len(loss_list)),loss_list)\n",
    "plt.show();"
   ]
  },
  {
   "cell_type": "code",
   "execution_count": null,
   "metadata": {
    "collapsed": true
   },
   "outputs": [],
   "source": []
  }
 ],
 "metadata": {
  "kernelspec": {
   "display_name": "Python 3",
   "language": "python",
   "name": "python3"
  },
  "language_info": {
   "codemirror_mode": {
    "name": "ipython",
    "version": 3
   },
   "file_extension": ".py",
   "mimetype": "text/x-python",
   "name": "python",
   "nbconvert_exporter": "python",
   "pygments_lexer": "ipython3",
   "version": "3.5.3"
  }
 },
 "nbformat": 4,
 "nbformat_minor": 2
}
