{
 "cells": [
  {
   "cell_type": "markdown",
   "metadata": {},
   "source": [
    "# 2nd Order Optimization \n",
    "\n",
    "## Newtons Method\n",
    "\n",
    "### Part 2"
   ]
  },
  {
   "cell_type": "markdown",
   "metadata": {},
   "source": [
    "## Newton's method optimization"
   ]
  },
  {
   "cell_type": "code",
   "execution_count": 1,
   "metadata": {
    "collapsed": true
   },
   "outputs": [],
   "source": [
    "from sympy import *\n",
    "from sympy.parsing import sympy_parser as spp\n",
    "\n",
    "import numpy as np\n",
    "import matplotlib.pyplot as plt"
   ]
  },
  {
   "cell_type": "markdown",
   "metadata": {},
   "source": [
    "### Hyperparams"
   ]
  },
  {
   "cell_type": "code",
   "execution_count": 2,
   "metadata": {
    "collapsed": true
   },
   "outputs": [],
   "source": [
    "plot_from = -7.0\n",
    "plot_to = 7.0\n",
    "plot_step = 0.1\n",
    "\n",
    "target_precision = 0.3\n",
    "\n",
    "sd_iters = 100000\n",
    "display_freq = sd_iters//10\n",
    "\n",
    "m = Matrix(symbols('x1 x2'))"
   ]
  },
  {
   "cell_type": "code",
   "execution_count": 3,
   "metadata": {},
   "outputs": [],
   "source": [
    "def dfdx(x,g):\n",
    "    return [float(g[i].subs(m[0],x[0]).subs(m[1],x[1])) for i in range(len(g))]"
   ]
  },
  {
   "cell_type": "code",
   "execution_count": 9,
   "metadata": {},
   "outputs": [],
   "source": [
    "def sd(obj,x_start,x_result,alpha=0.0002):\n",
    "    '''\n",
    "    Steepest Descent - 1st Order Optimization\n",
    "    '''\n",
    "    print('Steepest Descent - Start')\n",
    "    \n",
    "    #Gradient\n",
    "    g = [diff(obj,i) for i in m]\n",
    "    #Initialize xs\n",
    "    xs = [[0.0,0.0]]\n",
    "    xs[0] = x_start\n",
    "    #Get gradient at start location (dx/df or grad(f))\n",
    "    iter_s = 0\n",
    "    while np.linalg.norm(xs[-1] - x_result) > target_precision:\n",
    "        if(iter_s % display_freq == 0):\n",
    "            print ('Steepest Descent - Distance: ',np.linalg.norm(xs[-1] - x_result))\n",
    "        gs = dfdx(xs[iter_s],g)\n",
    "        #Compute search direction and magnitude (dx)\n",
    "        #With dx = -grad but no line searching\n",
    "        xs.append(xs[iter_s] - np.dot(alpha,gs))\n",
    "        if(iter_s % display_freq == 0):\n",
    "            print('Last xs:',xs[-1])\n",
    "        iter_s += 1\n",
    "        if iter_s > sd_iters:\n",
    "            break\n",
    "    \n",
    "    print('Steepest Descent - Result distance: ', np.linalg.norm(xs[-1] - x_result))\n",
    "    xs = np.array(xs)\n",
    "    plt.plot(xs[:,0],xs[:,1],'g-o')"
   ]
  },
  {
   "cell_type": "code",
   "execution_count": 10,
   "metadata": {
    "collapsed": true
   },
   "outputs": [],
   "source": [
    "def nm(obj,x_start,x_result):\n",
    "    '''\n",
    "    Newton's method - 2nd order optimization\n",
    "    '''\n",
    "    print ('Newton\\'s method - Start')\n",
    "    \n",
    "    #Gradient\n",
    "    g = [diff(obj,i) for i in m]\n",
    "    #Hessian Matrix\n",
    "    H = Matrix([[diff(g[j],m[i]) for i in range(len(m))] for j in range(len(g))])\n",
    "    H_inv = H.inv()\n",
    "    \n",
    "    xn = [[0,0]] #Newton's method result global for comparison\n",
    "    xn[0] = x_start\n",
    "    \n",
    "    iter_n = 0\n",
    "    while np.linalg.norm(xn[-1] - x_result) > target_precision:\n",
    "        print ('Newton\\'s method - Distance: ',np.linalg.norm(xn[-1] - x_result))\n",
    "        gn = Matrix(dfdx(xn[iter_n],g))\n",
    "        delta_xn = -H_inv * gn\n",
    "        delta_xn = delta_xn.subs(m[0],xn[iter_n][0]).subs(m[1],xn[iter_n][1])\n",
    "        \n",
    "        #Transform to numpy.ndarray to avoid np.linalg.norm error with 'Float' data type\n",
    "        aux = []\n",
    "        for elem in Matrix(xn[iter_n]) + delta_xn:\n",
    "            aux.append(elem)\n",
    "            \n",
    "        aux = np.array(aux).astype(np.float64)        \n",
    "        xn.append(aux)\n",
    "        iter_n += 1\n",
    "    print ('Newton\\'s method - Result Distance: ',np.linalg.norm(xn[-1] - x_result))\n",
    "    \n",
    "    xn = np.array(xn)\n",
    "    plt.plot(xn[:,0],xn[:,1],'k-o')"
   ]
  },
  {
   "cell_type": "markdown",
   "metadata": {},
   "source": [
    "### Test & Plot"
   ]
  },
  {
   "cell_type": "code",
   "execution_count": 11,
   "metadata": {
    "collapsed": true
   },
   "outputs": [],
   "source": [
    "def run_and_plot_quadratic():\n",
    "    #Quadratic function\n",
    "    x_start = [-4.0,6.0]\n",
    "    obj = spp.parse_expr('x1**2 - 2* x1 * x2 + 4 * x2 ** 2')\n",
    "    x_result = np.array([0.0,0.0])\n",
    "    \n",
    "    #Design variables at mesh points\n",
    "    i1 = np.arange(plot_from,plot_to,plot_step)\n",
    "    i2 = np.arange(plot_from,plot_to,plot_step)\n",
    "    x1_mesh,x2_mesh = np.meshgrid(i1,i2)\n",
    "    f_str = obj.__str__().replace('x1','x1_mesh').replace('x2','x2_mesh')\n",
    "    f_mesh = eval(f_str)\n",
    "    \n",
    "    #Create contour plot\n",
    "    plt.figure()\n",
    "    plt.imshow(f_mesh,cmap='Paired',origin='lower',extent=[plot_from - 20, plot_to + 20, plot_from - 20, plot_to + 2])\n",
    "    plt.colorbar()\n",
    "    \n",
    "    #Add some text\n",
    "    plt.title('f(x) = ' + str(obj))\n",
    "    plt.xlabel('x1')\n",
    "    plt.ylabel('x2')\n",
    "    nm(obj,x_start,x_result)\n",
    "    sd(obj,x_start,x_result,alpha=0.05)\n",
    "    plt.show()"
   ]
  },
  {
   "cell_type": "code",
   "execution_count": 15,
   "metadata": {
    "collapsed": true
   },
   "outputs": [],
   "source": [
    "def run_and_plot_rosenbrock():\n",
    "    #Rosenbrock function\n",
    "    x_start = [-4.0,-5.0]\n",
    "    obj = spp.parse_expr('(1-x1)**2 + 100 * (x2 - x1**2)**2')\n",
    "    x_result = np.array([1,1])\n",
    "    \n",
    "    #Design variables at mesh points\n",
    "    i1 = np.arange(plot_from,plot_to,plot_step)\n",
    "    i2 = np.arange(plot_from,plot_to,plot_step)\n",
    "    x1_mesh,x2_mesh = np.meshgrid(i1,i2)\n",
    "    f_str = obj.__str__().replace('x1','x1_mesh').replace('x2','x2_mesh')\n",
    "    f_mesh = eval(f_str)\n",
    "    \n",
    "    #Create contour plot\n",
    "    plt.figure()\n",
    "    plt.imshow(f_mesh,cmap='Paired',origin='lower',extent=[plot_from - 20, plot_to + 20, plot_from - 20, plot_to + 2])\n",
    "    plt.colorbar()\n",
    "    \n",
    "    #Add some text\n",
    "    plt.title('f(x) = ' + str(obj))\n",
    "    plt.xlabel('x1')\n",
    "    plt.ylabel('x2')\n",
    "    nm(obj,x_start,x_result)\n",
    "    sd(obj,x_start,x_result,alpha=0.0002)\n",
    "    plt.show()"
   ]
  },
  {
   "cell_type": "markdown",
   "metadata": {},
   "source": [
    "### Test"
   ]
  },
  {
   "cell_type": "code",
   "execution_count": 16,
   "metadata": {},
   "outputs": [
    {
     "name": "stdout",
     "output_type": "stream",
     "text": [
      "Newton's method - Start\n",
      "Newton's method - Distance:  7.21110255093\n",
      "Newton's method - Result Distance:  8.881784197e-16\n",
      "Steepest Descent - Start\n",
      "Steepest Descent - Distance:  7.21110255093\n",
      "Last xs: [-3.   3.2]\n",
      "Steepest Descent - Result distance:  0.296903326124\n"
     ]
    },
    {
     "data": {
      "image/png": "[encoded data removed]",
      "text/plain": [
       "<matplotlib.figure.Figure at 0x2717fe819e8>"
      ]
     },
     "metadata": {},
     "output_type": "display_data"
    }
   ],
   "source": [
    "run_and_plot_quadratic()"
   ]
  },
  {
   "cell_type": "code",
   "execution_count": 17,
   "metadata": {},
   "outputs": [
    {
     "name": "stdout",
     "output_type": "stream",
     "text": [
      "Newton's method - Start\n",
      "Newton's method - Distance:  7.81024967591\n",
      "Newton's method - Distance:  15.8019791126\n",
      "Newton's method - Distance:  24.9767763339\n",
      "Newton's method - Result Distance:  0.00316344535058\n",
      "Steepest Descent - Start\n",
      "Steepest Descent - Distance:  7.81024967591\n",
      "Last xs: [ 2.722 -4.16 ]\n",
      "Steepest Descent - Distance:  0.372833579499\n",
      "Last xs: [ 0.82088332  0.67305302]\n",
      "Steepest Descent - Result distance:  0.299979125659\n"
     ]
    },
    {
     "data": {
      "image/png": "[encoded data removed]",
      "text/plain": [
       "<matplotlib.figure.Figure at 0x2717fe1bc88>"
      ]
     },
     "metadata": {},
     "output_type": "display_data"
    }
   ],
   "source": [
    "run_and_plot_rosenbrock()"
   ]
  }
 ],
 "metadata": {
  "kernelspec": {
   "display_name": "Python 3",
   "language": "python",
   "name": "python3"
  },
  "language_info": {
   "codemirror_mode": {
    "name": "ipython",
    "version": 3
   },
   "file_extension": ".py",
   "mimetype": "text/x-python",
   "name": "python",
   "nbconvert_exporter": "python",
   "pygments_lexer": "ipython3",
   "version": "3.5.3"
  }
 },
 "nbformat": 4,
 "nbformat_minor": 2
}
