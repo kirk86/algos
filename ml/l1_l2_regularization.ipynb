{
 "cells": [
  {
   "cell_type": "markdown",
   "metadata": {},
   "source": [
    "# L1 and L2 Regularization with Linear Regression\n",
    "Using the [Climate Change Temperature](https://www.kaggle.com/berkeleyearth/climate-change-earth-surface-temperature-data) dataset from Kaggle, our goal is to implement L1 and L2 Normalization to regularize a linear model, and make a comparison between the performance of L1 and L2. Through this implementation, we get to examine the three ways vectors are used in machine learning - to represent input data, represent our model weights and regularize our model."
   ]
  },
  {
   "cell_type": "code",
   "execution_count": 1,
   "metadata": {
    "collapsed": true
   },
   "outputs": [],
   "source": [
    "# Imports\n",
    "import numpy as np\n",
    "import pandas as pd\n",
    "import matplotlib.pyplot as plt\n",
    "import seaborn as sns\n",
    "\n",
    "%matplotlib inline"
   ]
  },
  {
   "cell_type": "markdown",
   "metadata": {},
   "source": [
    "# Data Preparation"
   ]
  },
  {
   "cell_type": "code",
   "execution_count": 2,
   "metadata": {
    "collapsed": false,
    "scrolled": true
   },
   "outputs": [
    {
     "data": {
      "text/html": [
       "<div>\n",
       "<table border=\"1\" class=\"dataframe\">\n",
       "  <thead>\n",
       "    <tr style=\"text-align: right;\">\n",
       "      <th></th>\n",
       "      <th>dt</th>\n",
       "      <th>AverageTemperature</th>\n",
       "      <th>AverageTemperatureUncertainty</th>\n",
       "      <th>City</th>\n",
       "      <th>Country</th>\n",
       "      <th>Latitude</th>\n",
       "      <th>Longitude</th>\n",
       "      <th>year</th>\n",
       "      <th>month</th>\n",
       "    </tr>\n",
       "  </thead>\n",
       "  <tbody>\n",
       "    <tr>\n",
       "      <th>131855</th>\n",
       "      <td>1849-10-01</td>\n",
       "      <td>16.549</td>\n",
       "      <td>2.177</td>\n",
       "      <td>Los Angeles</td>\n",
       "      <td>United States</td>\n",
       "      <td>34.56N</td>\n",
       "      <td>118.70W</td>\n",
       "      <td>1849</td>\n",
       "      <td>10</td>\n",
       "    </tr>\n",
       "    <tr>\n",
       "      <th>131867</th>\n",
       "      <td>1850-10-01</td>\n",
       "      <td>17.577</td>\n",
       "      <td>1.318</td>\n",
       "      <td>Los Angeles</td>\n",
       "      <td>United States</td>\n",
       "      <td>34.56N</td>\n",
       "      <td>118.70W</td>\n",
       "      <td>1850</td>\n",
       "      <td>10</td>\n",
       "    </tr>\n",
       "    <tr>\n",
       "      <th>131879</th>\n",
       "      <td>1851-10-01</td>\n",
       "      <td>16.963</td>\n",
       "      <td>2.856</td>\n",
       "      <td>Los Angeles</td>\n",
       "      <td>United States</td>\n",
       "      <td>34.56N</td>\n",
       "      <td>118.70W</td>\n",
       "      <td>1851</td>\n",
       "      <td>10</td>\n",
       "    </tr>\n",
       "    <tr>\n",
       "      <th>131891</th>\n",
       "      <td>1852-10-01</td>\n",
       "      <td>15.792</td>\n",
       "      <td>1.630</td>\n",
       "      <td>Los Angeles</td>\n",
       "      <td>United States</td>\n",
       "      <td>34.56N</td>\n",
       "      <td>118.70W</td>\n",
       "      <td>1852</td>\n",
       "      <td>10</td>\n",
       "    </tr>\n",
       "    <tr>\n",
       "      <th>131903</th>\n",
       "      <td>1853-10-01</td>\n",
       "      <td>17.851</td>\n",
       "      <td>3.069</td>\n",
       "      <td>Los Angeles</td>\n",
       "      <td>United States</td>\n",
       "      <td>34.56N</td>\n",
       "      <td>118.70W</td>\n",
       "      <td>1853</td>\n",
       "      <td>10</td>\n",
       "    </tr>\n",
       "  </tbody>\n",
       "</table>\n",
       "</div>"
      ],
      "text/plain": [
       "                dt  AverageTemperature  AverageTemperatureUncertainty  \\\n",
       "131855  1849-10-01              16.549                          2.177   \n",
       "131867  1850-10-01              17.577                          1.318   \n",
       "131879  1851-10-01              16.963                          2.856   \n",
       "131891  1852-10-01              15.792                          1.630   \n",
       "131903  1853-10-01              17.851                          3.069   \n",
       "\n",
       "               City        Country Latitude Longitude  year  month  \n",
       "131855  Los Angeles  United States   34.56N   118.70W  1849     10  \n",
       "131867  Los Angeles  United States   34.56N   118.70W  1850     10  \n",
       "131879  Los Angeles  United States   34.56N   118.70W  1851     10  \n",
       "131891  Los Angeles  United States   34.56N   118.70W  1852     10  \n",
       "131903  Los Angeles  United States   34.56N   118.70W  1853     10  "
      ]
     },
     "execution_count": 2,
     "metadata": {},
     "output_type": "execute_result"
    }
   ],
   "source": [
    "# Importing csv dataset with pandas\n",
    "data = pd.read_csv('GlobalLandTemperaturesByMajorCity.csv')\n",
    "\n",
    "# Extrating year and month from data\n",
    "data['year'] = pd.DatetimeIndex(pd.to_datetime(data['dt'])).year\n",
    "data['month'] = pd.DatetimeIndex(pd.to_datetime(data['dt'])).month\n",
    "\n",
    "# Using only temp data for Los Angeles in October\n",
    "data = data.loc[data['City'] == 'Los Angeles']\n",
    "data = data.loc[data['month'] == 10]\n",
    "\n",
    "# Looking at the first 5 rows of dataset\n",
    "data.head()"
   ]
  },
  {
   "cell_type": "code",
   "execution_count": 3,
   "metadata": {
    "collapsed": false,
    "scrolled": true
   },
   "outputs": [
    {
     "data": {
      "image/png": "[encoded data removed]",
      "text/plain": [
       "<matplotlib.figure.Figure at 0x1117913c8>"
      ]
     },
     "metadata": {},
     "output_type": "display_data"
    }
   ],
   "source": [
    "# Using Year as X_values and price as Y_values, we want to predict the temperature\n",
    "# in LA in a future year\n",
    "points = data.as_matrix(['year', 'AverageTemperature'])\n",
    "\n",
    "# Looking at the plot of the points, we can see a linear trend \n",
    "f, ax = plt.subplots(figsize=(14, 5))\n",
    "ax.set_xlabel('Year')\n",
    "ax.set_ylabel('Av. Temp in October (Degrees Celcius)')\n",
    "plt.scatter(points[:,0], points[:,1])\n",
    "plt.show()"
   ]
  },
  {
   "cell_type": "markdown",
   "metadata": {},
   "source": [
    "## Linear Regression and Gradient Descent\n",
    "In Linear Regression, our goal is to find the parameters that minimises the mean sum of squared error function:\n",
    "\n",
    "$$\n",
    "E(m,b) =  \\frac{1}{2N} \\sum_{i=1}^n\\big(y_i - (m x_i + b )\\big)^2\n",
    "$$\n",
    "\n",
    "Regularization is a very important technique in machine learning to prevent overfitting and ensure that the model generalizes well to new data. Generally, there are two forms of regularization - L1 and L2. \n",
    "\n",
    "### With L1 Regularization:\n",
    "\n",
    "$$\n",
    "E(m,b) =  \\frac{1}{2N} \\big(\\sum_{i=1}^n\\big(y_i - (m x_i + b )\\big)^2 + \\lambda \\parallel m \\parallel\\big)\n",
    "$$\n",
    "\n",
    "$$\n",
    "\\frac{d}{db} = \\frac{1}{N} \\sum_{i=1}^n -\\big(y_i - (m x_i + b )\\big)\n",
    "$$\n",
    "\n",
    "$$\n",
    "\\frac{d}{dm} = \\frac{\\lambda}{2N} + \\frac{1}{N} \\sum_{i=1}^n -x_i\\big(y_i - (m x_i + b )\\big)\n",
    "$$\n",
    "\n",
    "\n",
    "### With L2 Regularization:\n",
    "\n",
    "$$\n",
    "E(m,b) =  \\frac{1}{2N} \\big(\\sum_{i=1}^n\\big(y_i - (m x_i + b )\\big)^2 + \\lambda \\parallel m \\parallel^2\\big)\n",
    "$$\n",
    "\n",
    "$$\n",
    "\\frac{d}{db} = \\frac{1}{N} \\sum_{i=1}^n -\\big(y_i - (m x_i + b )\\big)\n",
    "$$\n",
    "\n",
    "$$\n",
    "\\frac{d}{dm} = \\frac{\\lambda}{N} m + \\frac{1}{N} \\sum_{i=1}^n -x_i\\big(y_i - (m x_i + b )\\big)\n",
    "$$\n",
    "\n",
    "\n",
    "As it can be observed, the partial derivative with respect to b does not vary with regularization."
   ]
  },
  {
   "cell_type": "code",
   "execution_count": 4,
   "metadata": {
    "collapsed": true
   },
   "outputs": [],
   "source": [
    "# Computes mean sum of squared error for all data points\n",
    "def compute_error_for_line_given_points(b, m, points):\n",
    "    totalError = 0\n",
    "    for i in range(0, len(points)):\n",
    "        x = points[i, 0]\n",
    "        y = points[i, 1]\n",
    "        totalError += (y - (m * x + b)) ** 2\n",
    "    return totalError / float(len(points))"
   ]
  },
  {
   "cell_type": "code",
   "execution_count": 5,
   "metadata": {
    "collapsed": false
   },
   "outputs": [],
   "source": [
    "def step_gradient(b_current, m_current, points, learningRate, lam, regularizer):\n",
    "    b_gradient = 0\n",
    "    m_gradient = 0\n",
    "    N = float(len(points))\n",
    "    \n",
    "    # Iterating over all points\n",
    "    for i in range(0, len(points)):\n",
    "        # Getting x and y values\n",
    "        x = points[i, 0]\n",
    "        y = points[i, 1]\n",
    "        \n",
    "        # Calculating gradients according to regularization\n",
    "        if regularizer == 'L1':\n",
    "            m_gradient += (lam/(2*N) -(x/N) * (y - ((m_current * x) + b_current)))\n",
    "        elif regularizer == 'L2':\n",
    "            m_gradient += (lam/N*m_current - (x/N) * (y - ((m_current * x) + b_current)))\n",
    "        else:\n",
    "            m_gradient += -(x/N) * (y - ((m_current * x) + b_current))\n",
    "        b_gradient += -(1/N) * (y - ((m_current * x) + b_current))\n",
    "        \n",
    "    # Updating b and m with learningrate * gradients\n",
    "    new_b = b_current - (learningRate * b_gradient)\n",
    "    new_m = m_current - (learningRate * m_gradient)\n",
    "    return [new_b, new_m]"
   ]
  },
  {
   "cell_type": "code",
   "execution_count": 6,
   "metadata": {
    "collapsed": true
   },
   "outputs": [],
   "source": [
    "def gradient_descent_runner(points, starting_b, starting_m, learning_rate, num_iterations, lam, regularizer):\n",
    "    b = starting_b\n",
    "    m = starting_m\n",
    "    for i in range(num_iterations):\n",
    "        b, m = step_gradient(b, m, np.array(points), learning_rate, lam, regularizer)\n",
    "        # Every 100 iterations, prints b and m and error\n",
    "        if i % 100 == 0:\n",
    "            print('Iteration {}, b:{}, m:{}, error:{}'.format(i, b, m, compute_error_for_line_given_points(b, m, points)))\n",
    "    return [b, m]\n",
    "\n",
    "def run(lr, num_iter, lam, regularizer=None):\n",
    "    learning_rate = lr\n",
    "    initial_b = 0 # initial y-intercept guess\n",
    "    initial_m = 0 # initial slope guess\n",
    "    num_iterations = num_iter\n",
    "    print(\"Starting gradient descent at b = {0}, m = {1}, error = {2}\".format(initial_b, initial_m, compute_error_for_line_given_points(initial_b, initial_m, points)))\n",
    "    print(\"Running...\")\n",
    "    [b, m] = gradient_descent_runner(points, initial_b, initial_m, learning_rate, num_iterations, lam, regularizer)\n",
    "    print(\"After {0} iterations b = {1}, m = {2}, error = {3}\".format(num_iterations, b, m, compute_error_for_line_given_points(b, m, points)))\n",
    "    return b, m\n",
    "\n",
    "# Predicts y, given x\n",
    "def predict(b, m, x_values):\n",
    "    predicted_y = list()\n",
    "    for x in x_values:\n",
    "        y = m * x + b\n",
    "        predicted_y.append(y)\n",
    "    return predicted_y"
   ]
  },
  {
   "cell_type": "code",
   "execution_count": 7,
   "metadata": {
    "collapsed": false,
    "scrolled": false
   },
   "outputs": [
    {
     "name": "stdout",
     "output_type": "stream",
     "text": [
      "Starting gradient descent at b = 0, m = 0, error = 289.596072\n",
      "Running...\n",
      "Iteration 0, b:1.6974890243902432e-06, m:0.003253853606707318, error:115.69962354906068\n",
      "Iteration 100, b:5.830591196204104e-06, m:0.008725637166902842, error:1.3136946086406749\n",
      "Iteration 200, b:7.131009818388362e-06, m:0.00872563649369018, error:1.3136946070291962\n",
      "Iteration 300, b:8.431428432756832e-06, m:0.008725635820477522, error:1.3136946054177188\n",
      "Iteration 400, b:9.731847039309517e-06, m:0.008725635147264868, error:1.3136946038062456\n",
      "After 500 iterations b = 1.1019261452097737e-05, m = 0.008725634480784346, error = 1.3136946022108869\n",
      "Starting gradient descent at b = 0, m = 0, error = 289.596072\n",
      "Running...\n",
      "Iteration 0, b:1.6974890243902432e-06, m:0.0032788536067073167, error:114.66922021674188\n",
      "Iteration 100, b:4.579896115606634e-06, m:0.008791499835056749, error:1.2969395965805244\n",
      "Iteration 200, b:4.608848439793993e-06, m:0.008791499820070454, error:1.2969395965446284\n",
      "Iteration 300, b:4.637800763768552e-06, m:0.008791499805084159, error:1.2969395965087336\n",
      "Iteration 400, b:4.666753087530309e-06, m:0.008791499790097862, error:1.296939596472838\n",
      "After 500 iterations b = 4.695415887844834e-06, m = 0.00879149977526143, error = 1.2969395964373014\n",
      "Starting gradient descent at b = 0, m = 0, error = 289.596072\n",
      "Running...\n",
      "Iteration 0, b:1.6974890243902432e-06, m:0.0032788536067073167, error:114.66922021674188\n",
      "Iteration 100, b:4.558132635971237e-06, m:0.008792678624670747, error:1.2969344149948159\n",
      "Iteration 200, b:4.564328644382075e-06, m:0.00879267862146314, error:1.2969344149871374\n",
      "Iteration 300, b:4.5705246527556734e-06, m:0.008792678618255534, error:1.2969344149794586\n",
      "Iteration 400, b:4.576720661092033e-06, m:0.008792678615047927, error:1.2969344149717805\n",
      "After 500 iterations b = 4.582854709308345e-06, m = 0.008792678611872396, error = 1.29693441496418\n"
     ]
    }
   ],
   "source": [
    "# Hyperparameters\n",
    "learning_rate = 0.0000001\n",
    "iterations = 500\n",
    "lamb = 500\n",
    "\n",
    "# Linear Regression with L1 \n",
    "b1, m1 = run(learning_rate, iterations, lamb, 'L1')\n",
    "\n",
    "# Linear Regression with L2 \n",
    "b2, m2 = run(learning_rate, iterations, lamb, 'L2')\n",
    "\n",
    "# Linear Regression without Regularization\n",
    "b3, m3 = run(learning_rate, iterations, lamb)"
   ]
  },
  {
   "cell_type": "code",
   "execution_count": 8,
   "metadata": {
    "collapsed": false,
    "scrolled": true
   },
   "outputs": [
    {
     "data": {
      "image/png": "[encoded data removed]",
      "text/plain": [
       "<matplotlib.figure.Figure at 0x10f789438>"
      ]
     },
     "metadata": {},
     "output_type": "display_data"
    }
   ],
   "source": [
    "# Comparing best-fit line with dataset\n",
    "f, ax = plt.subplots(figsize=(14, 5))\n",
    "ax.set_xlabel('Year')\n",
    "ax.set_ylabel('Av. Temp in October (Degrees Celcius)')\n",
    "plt.plot(points[:,0], predict(b1, m1, points[:,0]), label='L1')\n",
    "plt.plot(points[:,0], predict(b2, m2, points[:,0]), label='L2')\n",
    "plt.plot(points[:,0], predict(b3, m3, points[:,0]), label='None')\n",
    "plt.scatter(points[:,0], points[:,1])\n",
    "plt.legend()\n",
    "plt.show()"
   ]
  },
  {
   "cell_type": "markdown",
   "metadata": {},
   "source": [
    "## Summary\n",
    "In general L1 and L2 have differing properties:\n",
    "\n",
    "![](http://www.chioka.in/wp-content/uploads/2013/12/L1-vs-L2-properties-regularization.png)\n",
    "\n",
    "However, given that we are using only a single feature (the year) with a small dataset (164 examples), it is difficult to tell from this toy example the differences between L2 and L1 regularization."
   ]
  },
  {
   "cell_type": "code",
   "execution_count": 9,
   "metadata": {
    "collapsed": false
   },
   "outputs": [],
   "source": [
    "# And just for fun, let's predict the impact of global warming by 2100\n",
    "temp = predict(b1,m1, [2017, 2050, 2100])"
   ]
  },
  {
   "cell_type": "code",
   "execution_count": 10,
   "metadata": {
    "collapsed": false
   },
   "outputs": [
    {
     "data": {
      "text/plain": [
       "[17.599615767003478, 17.887561704869363, 18.323843428908578]"
      ]
     },
     "execution_count": 10,
     "metadata": {},
     "output_type": "execute_result"
    }
   ],
   "source": [
    "temp"
   ]
  }
 ],
 "metadata": {
  "kernelspec": {
   "display_name": "Python 3",
   "language": "python",
   "name": "python3"
  },
  "language_info": {
   "codemirror_mode": {
    "name": "ipython",
    "version": 3
   },
   "file_extension": ".py",
   "mimetype": "text/x-python",
   "name": "python",
   "nbconvert_exporter": "python",
   "pygments_lexer": "ipython3",
   "version": "3.5.2"
  }
 },
 "nbformat": 4,
 "nbformat_minor": 1
}
