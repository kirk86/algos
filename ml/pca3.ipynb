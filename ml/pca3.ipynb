{
 "cells": [
  {
   "cell_type": "markdown",
   "metadata": {},
   "source": [
    "# PCA and autoencoders"
   ]
  },
  {
   "cell_type": "markdown",
   "metadata": {},
   "source": [
    "This notebook explores dimensionality reduction through autoencoding of a classic dataset.\n",
    "\n",
    "Let's start be loading our dependencies:"
   ]
  },
  {
   "cell_type": "code",
   "execution_count": 83,
   "metadata": {
    "collapsed": true
   },
   "outputs": [],
   "source": [
    "# Numpy is our primary dependency\n",
    "import numpy as np\n",
    "\n",
    "# Import datasets from scikit-learn only to get the iris data set\n",
    "from sklearn import datasets\n",
    "\n",
    "# We will need some plotting too\n",
    "import matplotlib.pyplot as plt"
   ]
  },
  {
   "cell_type": "markdown",
   "metadata": {},
   "source": [
    "## The Dataset"
   ]
  },
  {
   "cell_type": "markdown",
   "metadata": {},
   "source": [
    "We will use the iris data set for this exercise:"
   ]
  },
  {
   "cell_type": "code",
   "execution_count": 2,
   "metadata": {
    "collapsed": false
   },
   "outputs": [],
   "source": [
    "# Load iris data set\n",
    "iris = datasets.load_iris()\n",
    "\n",
    "# Extract data and feature names\n",
    "data = iris.data\n",
    "feature_names = iris.feature_names\n",
    "\n",
    "# Similarly for labels and label names\n",
    "labels = iris.target\n",
    "label_names = iris.target_names"
   ]
  },
  {
   "cell_type": "markdown",
   "metadata": {},
   "source": [
    "The dataset describes four characteristics of a sample of three different species of iris flowers. Our aim is to reduce the four dimension to two, so that we can make a scatter plot of the data set.\n",
    "\n",
    "The four features are:"
   ]
  },
  {
   "cell_type": "code",
   "execution_count": 41,
   "metadata": {
    "collapsed": false
   },
   "outputs": [
    {
     "data": {
      "text/plain": [
       "['sepal length (cm)',\n",
       " 'sepal width (cm)',\n",
       " 'petal length (cm)',\n",
       " 'petal width (cm)']"
      ]
     },
     "execution_count": 41,
     "metadata": {},
     "output_type": "execute_result"
    }
   ],
   "source": [
    "feature_names"
   ]
  },
  {
   "cell_type": "markdown",
   "metadata": {},
   "source": [
    "The three species labels are:"
   ]
  },
  {
   "cell_type": "code",
   "execution_count": 43,
   "metadata": {
    "collapsed": false
   },
   "outputs": [
    {
     "data": {
      "text/plain": [
       "array(['setosa', 'versicolor', 'virginica'], \n",
       "      dtype='<U10')"
      ]
     },
     "execution_count": 43,
     "metadata": {},
     "output_type": "execute_result"
    }
   ],
   "source": [
    "label_names"
   ]
  },
  {
   "cell_type": "markdown",
   "metadata": {},
   "source": [
    "### Pre-processing of data"
   ]
  },
  {
   "cell_type": "markdown",
   "metadata": {},
   "source": [
    "We will need to pre-process the data in various ways. For PCA, we will need all features to be centered (i.e. with mean zero) and with unit standard deviation.\n",
    "\n",
    "For the autoencoding section, we will need to make sure that all values are between 0 and 1. We will need these data in transposed form as well."
   ]
  },
  {
   "cell_type": "code",
   "execution_count": 76,
   "metadata": {
    "collapsed": false
   },
   "outputs": [],
   "source": [
    "means = np.mean(data, axis=0)\n",
    "stds = np.std(data, axis=0)\n",
    "\n",
    "maxs = np.amax(data, axis=0)\n",
    "mins = np.amin(data, axis=0)\n",
    "\n",
    "\n",
    "# Data used for PCA\n",
    "PCAdata = (data - means) / stds\n",
    "\n",
    "# Data used for autoencoder\n",
    "AEdata = (data - mins) / (maxs - mins)\n",
    "AEdata = AEdata.transpose()"
   ]
  },
  {
   "cell_type": "markdown",
   "metadata": {},
   "source": [
    "## Principal component analysis"
   ]
  },
  {
   "cell_type": "markdown",
   "metadata": {},
   "source": [
    "The covariance matrix for the centered data set can now be calculated as essentially the Gramian of the data matrix:"
   ]
  },
  {
   "cell_type": "code",
   "execution_count": 7,
   "metadata": {
    "collapsed": false
   },
   "outputs": [],
   "source": [
    "cov = np.matmul(PCAdata.transpose(), PCAdata) / (PCAdata.shape[0] - 1)"
   ]
  },
  {
   "cell_type": "markdown",
   "metadata": {},
   "source": [
    "Diagonalize the covariance matrix to get the eigenvalues and corresponding principal axes:"
   ]
  },
  {
   "cell_type": "code",
   "execution_count": 8,
   "metadata": {
    "collapsed": false
   },
   "outputs": [],
   "source": [
    "eig, axes = np.linalg.eig(cov)"
   ]
  },
  {
   "cell_type": "markdown",
   "metadata": {},
   "source": [
    "Check the eigenvalues:"
   ]
  },
  {
   "cell_type": "code",
   "execution_count": 9,
   "metadata": {
    "collapsed": false
   },
   "outputs": [
    {
     "data": {
      "text/plain": [
       "array([ 2.93035378,  0.92740362,  0.14834223,  0.02074601])"
      ]
     },
     "execution_count": 9,
     "metadata": {},
     "output_type": "execute_result"
    }
   ],
   "source": [
    "eig"
   ]
  },
  {
   "cell_type": "markdown",
   "metadata": {},
   "source": [
    "Since the two largest eigenvalues are rather large compared to the last two, a two-dimensional plot should cover a reasonable amount of the variation in the data set.\n",
    "\n",
    "Now calculate the principal components corresponding to the two largest eigenvalues:"
   ]
  },
  {
   "cell_type": "code",
   "execution_count": 10,
   "metadata": {
    "collapsed": false
   },
   "outputs": [],
   "source": [
    "pc2d = np.matmul(PCAdata, axes[:, 0:2])"
   ]
  },
  {
   "cell_type": "markdown",
   "metadata": {},
   "source": [
    "Now we can plot the dimensionally reduced dataset, using these principal components:"
   ]
  },
  {
   "cell_type": "code",
   "execution_count": 11,
   "metadata": {
    "collapsed": false
   },
   "outputs": [
    {
     "data": {
      "image/png": "[encoded data removed]",
      "text/plain": [
       "<matplotlib.figure.Figure at 0x1ebd5bd0860>"
      ]
     },
     "metadata": {},
     "output_type": "display_data"
    }
   ],
   "source": [
    "# Grab each component\n",
    "pc1 = np.array(pc2d[:, 0].transpose())\n",
    "pc2 = np.array(pc2d[:, 1].transpose())\n",
    "\n",
    "# Plot\n",
    "plt.scatter(pc1, pc2, c=labels)\n",
    "plt.show()"
   ]
  },
  {
   "cell_type": "markdown",
   "metadata": {},
   "source": [
    "Each color corresponds to a species of iris."
   ]
  },
  {
   "cell_type": "markdown",
   "metadata": {},
   "source": [
    "## Autoencoders"
   ]
  },
  {
   "cell_type": "markdown",
   "metadata": {},
   "source": [
    "PCA is an example of an *autoencoder*.\n",
    "\n",
    "An autoencoder consists of two parts: A *coder* and a *decoder*. The coder transforms the origin data points into a feature space of lower dimension than the original dataset. The decoder then transforms from the low dimension space back into the origin set of dimensions. The aim is for the decoder to get as close to the original data as possible.\n",
    "\n",
    "When the coder and decoder are *linear transformations*, the resulting optimal autoencoder is equivalent to PCA.\n",
    "\n",
    "But what if we add non-linearities? The situation is similar to adding an activation function to a neural net, and indeed that is what we will do here. The resulting neural net is shown in the figure below. This has a minimum number of layers."
   ]
  },
  {
   "cell_type": "markdown",
   "metadata": {},
   "source": [
    "![Structure of a shallow neural net autoencoder](autoencoder.png)"
   ]
  },
  {
   "cell_type": "markdown",
   "metadata": {},
   "source": [
    "## The neural net model"
   ]
  },
  {
   "cell_type": "markdown",
   "metadata": {},
   "source": [
    "But we could add several additional layers in the coder and decoder. In this case we get a *deep autoencoder*. Here, we will make each two layers deep, such that:\n",
    "\n",
    "- The coder transforms from 4 to 3 to 2 dimensions.\n",
    "- The decoder transforms from 2 to 3 to 4 dimensions.\n",
    "\n",
    "I.e. our model will be the one depicted below:"
   ]
  },
  {
   "cell_type": "markdown",
   "metadata": {},
   "source": [
    "![The autoencoder model we will use](deep_autoencoder.png)"
   ]
  },
  {
   "cell_type": "markdown",
   "metadata": {},
   "source": [
    "### Activation functions"
   ]
  },
  {
   "cell_type": "markdown",
   "metadata": {},
   "source": [
    "We will use a number of activation functions to study their differences. Each function will return the activation values as well as the derivatives."
   ]
  },
  {
   "cell_type": "code",
   "execution_count": 190,
   "metadata": {
    "collapsed": false
   },
   "outputs": [],
   "source": [
    "# No activation function\n",
    "def linear(x):\n",
    "    linear_grad = np.ones(x.shape)\n",
    "    return x, linear_grad\n",
    "\n",
    "# Sigmoid\n",
    "def sigmoid(x):\n",
    "    sigmoid = 1 / (1 + np.exp(-x))\n",
    "    sigmoid_grad = sigmoid * (1 - sigmoid)\n",
    "    return sigmoid, sigmoid_grad\n",
    "\n",
    "# ReLU\n",
    "def relu(x):\n",
    "    relu = np.maximum(x, np.zeros(x.shape))\n",
    "    relu_grad = np.ones(x.shape) * (x > 0)\n",
    "    return relu, relu_grad"
   ]
  },
  {
   "cell_type": "markdown",
   "metadata": {},
   "source": [
    "### Neural network math"
   ]
  },
  {
   "cell_type": "markdown",
   "metadata": {},
   "source": [
    "We will represent our neural network as a list of dictionaries, each corresponding to a layer of neurons:"
   ]
  },
  {
   "cell_type": "code",
   "execution_count": 78,
   "metadata": {
    "collapsed": false
   },
   "outputs": [],
   "source": [
    "# Make a new layer\n",
    "def new_layer(dim_in, dim_out):\n",
    "    weights = np.random.rand(dim_out, dim_in) - 0.5\n",
    "    bias = np.random.rand(dim_out, 1) - 0.5\n",
    "    \n",
    "    return {\n",
    "        'weights': weights,\n",
    "        'bias': bias,\n",
    "        'activations': np.zeros((dim_out, AEdata.shape[1])),\n",
    "        'act_grad': np.zeros((dim_out, AEdata.shape[1])),\n",
    "        'errors': np.zeros((dim_out, AEdata.shape[1])),\n",
    "        'weights_grad': np.zeros(weights.shape),\n",
    "        'bias_grad': np.zeros(bias.shape)\n",
    "    }\n",
    "\n",
    "# Our specific models hyperparameters\n",
    "def initialize_model():\n",
    "    return [new_layer(4, 3), new_layer(3, 2), new_layer(2, 3), new_layer(3, 4)]"
   ]
  },
  {
   "cell_type": "markdown",
   "metadata": {},
   "source": [
    "We need to be able to forward propagate values ..."
   ]
  },
  {
   "cell_type": "code",
   "execution_count": 169,
   "metadata": {
    "collapsed": false
   },
   "outputs": [],
   "source": [
    "def forward_propagate(layers, inputs, activation_function):\n",
    "    for layer in layers:\n",
    "        zs = np.matmul(layer['weights'], inputs) + layer['bias']\n",
    "        activations, act_grad = activation_function(zs)\n",
    "        layer['activations'] = activations\n",
    "        layer['act_grad'] = act_grad\n",
    "        inputs = activations"
   ]
  },
  {
   "cell_type": "markdown",
   "metadata": {},
   "source": [
    "... and backpropagate values:"
   ]
  },
  {
   "cell_type": "code",
   "execution_count": 170,
   "metadata": {
    "collapsed": true
   },
   "outputs": [],
   "source": [
    "def backward_propagate(layers, inputs, outputs):    \n",
    "    # Initiate errors for the last layer (normalized)\n",
    "    errors = (layers[-1]['activations'] - outputs)\n",
    "    \n",
    "    # Go backwards through the layers\n",
    "    for layer_number, layer in reversed(list(enumerate(layers))):\n",
    "        layer['errors'] = errors\n",
    "        \n",
    "        # Calculate Hadamard product between errors and activation gradients\n",
    "        hadamard = errors * layer['act_grad']\n",
    "        \n",
    "        # Get activations of previous layer - if at the first layer use input\n",
    "        if layer_number == 0:\n",
    "            last_activations = inputs\n",
    "        else:\n",
    "            last_activations = layers[layer_number - 1]['activations']\n",
    "        \n",
    "        # Calculate derivatives of weights\n",
    "        weights_grad = np.matmul(hadamard, last_activations.transpose()) / inputs.shape[1]\n",
    "        layer['weights_grad'] = weights_grad\n",
    "        \n",
    "        # Calculate derivatives of biases\n",
    "        bias_grad = hadamard.sum(axis=1).reshape(layer['bias'].shape) / inputs.shape[1]\n",
    "        layer['bias_grad'] = bias_grad\n",
    "        \n",
    "        # Backpropagate errors, unless we're at the first layer\n",
    "        if layer_number != 0:\n",
    "            errors = np.matmul(layer['weights'].transpose(), hadamard)"
   ]
  },
  {
   "cell_type": "markdown",
   "metadata": {},
   "source": [
    "And we need to be able to update weights and biases based on the results of the backpropagation:"
   ]
  },
  {
   "cell_type": "code",
   "execution_count": 171,
   "metadata": {
    "collapsed": false
   },
   "outputs": [],
   "source": [
    "def gradient_descent(layers, learning_rate):\n",
    "    for layer in layers:\n",
    "        layer['weights'] = layer['weights'] - layer['weights_grad'] * learning_rate\n",
    "        layer['bias'] = layer['bias'] - layer['bias_grad'] * learning_rate"
   ]
  },
  {
   "cell_type": "markdown",
   "metadata": {},
   "source": [
    "Finally, we need the value of the error function to visualize training:"
   ]
  },
  {
   "cell_type": "code",
   "execution_count": 172,
   "metadata": {
    "collapsed": false
   },
   "outputs": [],
   "source": [
    "def error_function(layers):\n",
    "    errors = layers[-1]['errors']\n",
    "    e_squared = errors ** 2\n",
    "    return e_squared.sum() / errors.shape[1]"
   ]
  },
  {
   "cell_type": "markdown",
   "metadata": {},
   "source": [
    "## Training the autoencoder"
   ]
  },
  {
   "cell_type": "markdown",
   "metadata": {},
   "source": [
    "The following function will initialize and train our autoencoder:"
   ]
  },
  {
   "cell_type": "code",
   "execution_count": 178,
   "metadata": {
    "collapsed": false
   },
   "outputs": [],
   "source": [
    "def trainAE(activation_function, learning_rate, epochs):\n",
    "    # Initialize model\n",
    "    layers = initialize_model()\n",
    "    \n",
    "    # Array of errors\n",
    "    error_history = []\n",
    "    \n",
    "    # Run through the epochs\n",
    "    for epoch in range(epochs):\n",
    "        forward_propagate(layers, AEdata, activation_function)\n",
    "        backward_propagate(layers, AEdata, AEdata)\n",
    "        gradient_descent(layers, learning_rate)\n",
    "        error_history.append(error_function(layers))\n",
    "    \n",
    "    # Return trained model, and error_history for plotting\n",
    "    return layers, error_history"
   ]
  },
  {
   "cell_type": "markdown",
   "metadata": {},
   "source": [
    "### Linear autoencoder"
   ]
  },
  {
   "cell_type": "markdown",
   "metadata": {},
   "source": [
    "First, let's train a linear autoencoder.\n",
    "\n",
    "The error history is plotted below."
   ]
  },
  {
   "cell_type": "code",
   "execution_count": 193,
   "metadata": {
    "collapsed": false
   },
   "outputs": [
    {
     "data": {
      "image/png": "[encoded data removed]",
      "text/plain": [
       "<matplotlib.figure.Figure at 0x1ebd7468f60>"
      ]
     },
     "metadata": {},
     "output_type": "display_data"
    }
   ],
   "source": [
    "layers, error_history = trainAE(linear, .4, 1000)\n",
    "\n",
    "# Plot error history\n",
    "plt.plot(range(1000), error_history)\n",
    "plt.show()"
   ]
  },
  {
   "cell_type": "markdown",
   "metadata": {},
   "source": [
    "Let's look at the encoded coordinates:"
   ]
  },
  {
   "cell_type": "code",
   "execution_count": 194,
   "metadata": {
    "collapsed": false
   },
   "outputs": [
    {
     "data": {
      "image/png": "[encoded data removed]",
      "text/plain": [
       "<matplotlib.figure.Figure at 0x1ebd739b048>"
      ]
     },
     "metadata": {},
     "output_type": "display_data"
    }
   ],
   "source": [
    "# Get encoded coordinates\n",
    "ec1 = np.array(layers[1]['activations'][0, :].transpose())\n",
    "ec2 = np.array(layers[1]['activations'][1, :].transpose())\n",
    "\n",
    "# Plot encoded data\n",
    "plt.scatter(ec1, ec2, c=labels)\n",
    "plt.show()"
   ]
  },
  {
   "cell_type": "markdown",
   "metadata": {},
   "source": [
    "Since a linear autoencoder is equivalent to PCA, it is not surprising, that this looks similar (but may be rotated/inverted)."
   ]
  },
  {
   "cell_type": "markdown",
   "metadata": {},
   "source": [
    "### Sigmoid autoencoder"
   ]
  },
  {
   "cell_type": "markdown",
   "metadata": {},
   "source": [
    "Same procedure for the sigmoid activation function:"
   ]
  },
  {
   "cell_type": "code",
   "execution_count": 203,
   "metadata": {
    "collapsed": false
   },
   "outputs": [
    {
     "data": {
      "image/png": "[encoded data removed]",
      "text/plain": [
       "<matplotlib.figure.Figure at 0x1ebd6f39438>"
      ]
     },
     "metadata": {},
     "output_type": "display_data"
    }
   ],
   "source": [
    "layers, error_history = trainAE(sigmoid, 1, 1000)\n",
    "\n",
    "# Plot error history\n",
    "plt.plot(range(1000), error_history)\n",
    "plt.show()"
   ]
  },
  {
   "cell_type": "code",
   "execution_count": 204,
   "metadata": {
    "collapsed": false
   },
   "outputs": [
    {
     "data": {
      "image/png": "[encoded data removed]",
      "text/plain": [
       "<matplotlib.figure.Figure at 0x1ebd8865898>"
      ]
     },
     "metadata": {},
     "output_type": "display_data"
    }
   ],
   "source": [
    "# Get encoded coordinates\n",
    "ec1 = np.array(layers[1]['activations'][0, :].transpose())\n",
    "ec2 = np.array(layers[1]['activations'][1, :].transpose())\n",
    "\n",
    "# Plot encoded data\n",
    "plt.scatter(ec1, ec2, c=labels)\n",
    "plt.show()"
   ]
  },
  {
   "cell_type": "markdown",
   "metadata": {},
   "source": [
    "Perhaps somewhat surprisingly, this generally seems to perform a bit worse than the linear autoencoder."
   ]
  },
  {
   "cell_type": "markdown",
   "metadata": {},
   "source": [
    "### ReLU autoencoder"
   ]
  },
  {
   "cell_type": "markdown",
   "metadata": {},
   "source": [
    "And finally the ReLU activation function:"
   ]
  },
  {
   "cell_type": "code",
   "execution_count": 220,
   "metadata": {
    "collapsed": false
   },
   "outputs": [
    {
     "data": {
      "image/png": "[encoded data removed]",
      "text/plain": [
       "<matplotlib.figure.Figure at 0x1ebd6fa1dd8>"
      ]
     },
     "metadata": {},
     "output_type": "display_data"
    }
   ],
   "source": [
    "layers, error_history = trainAE(relu, .1, 100)\n",
    "\n",
    "# Plot error history\n",
    "plt.plot(range(100), error_history)\n",
    "plt.show()"
   ]
  },
  {
   "cell_type": "code",
   "execution_count": 221,
   "metadata": {
    "collapsed": false
   },
   "outputs": [
    {
     "data": {
      "image/png": "[encoded data removed]",
      "text/plain": [
       "<matplotlib.figure.Figure at 0x1ebd7351630>"
      ]
     },
     "metadata": {},
     "output_type": "display_data"
    }
   ],
   "source": [
    "# Get encoded coordinates\n",
    "ec1 = np.array(layers[1]['activations'][0, :].transpose())\n",
    "ec2 = np.array(layers[1]['activations'][1, :].transpose())\n",
    "\n",
    "# Plot encoded data\n",
    "plt.scatter(ec1, ec2, c=labels)\n",
    "plt.show()"
   ]
  },
  {
   "cell_type": "markdown",
   "metadata": {},
   "source": [
    "This has a tendency to squash the dimensions :-/ So probably not a good pick."
   ]
  }
 ],
 "metadata": {
  "anaconda-cloud": {},
  "kernelspec": {
   "display_name": "Python [default]",
   "language": "python",
   "name": "python3"
  },
  "language_info": {
   "codemirror_mode": {
    "name": "ipython",
    "version": 3
   },
   "file_extension": ".py",
   "mimetype": "text/x-python",
   "name": "python",
   "nbconvert_exporter": "python",
   "pygments_lexer": "ipython3",
   "version": "3.5.2"
  }
 },
 "nbformat": 4,
 "nbformat_minor": 2
}
